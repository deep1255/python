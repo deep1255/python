{
 "cells": [
  {
   "cell_type": "code",
   "execution_count": 2,
   "id": "851732a1",
   "metadata": {},
   "outputs": [
    {
     "name": "stdout",
     "output_type": "stream",
     "text": [
      "[(4, 3), (5, 2), (6, 1)]\n"
     ]
    }
   ],
   "source": [
    "#Q1\n",
    "def find_pairs_with_sum(arr, target_sum):\n",
    "    # Create a dictionary to store seen values\n",
    "    seen = {}\n",
    "    pairs = []\n",
    "\n",
    "    for num in arr:\n",
    "        # Calculate the complement (the value needed to reach the target sum)\n",
    "        complement = target_sum - num\n",
    "\n",
    "        # If the complement is in the seen dictionary, we found a pair\n",
    "        if complement in seen:\n",
    "            pairs.append((num, complement))\n",
    "\n",
    "        # Add the current number to the seen dictionary\n",
    "        seen[num] = True\n",
    "\n",
    "    return pairs\n",
    "\n",
    "# Example usage\n",
    "arr = [1, 2, 3, 4, 5, 6, 7]\n",
    "target_sum = 7\n",
    "\n",
    "result = find_pairs_with_sum(arr, target_sum)\n",
    "print(result)\n"
   ]
  },
  {
   "cell_type": "code",
   "execution_count": 4,
   "id": "5fcd08e9",
   "metadata": {},
   "outputs": [
    {
     "name": "stdout",
     "output_type": "stream",
     "text": [
      "[5, 4, 3, 2, 1]\n"
     ]
    }
   ],
   "source": [
    "#Q2\n",
    "\n",
    "def reverse_array_in_place(arr):\n",
    "    start = 0\n",
    "    end = len(arr) - 1\n",
    "\n",
    "    while start < end:\n",
    "        # Swap elements at the start and end positions\n",
    "        arr[start], arr[end] = arr[end], arr[start]\n",
    "\n",
    "        # Move the start and end pointers inward\n",
    "        start += 1\n",
    "        end -= 1\n",
    "\n",
    "# Example usage\n",
    "my_array = [1, 2, 3, 4, 5]\n",
    "reverse_array_in_place(my_array)\n",
    "print(my_array)\n"
   ]
  },
  {
   "cell_type": "code",
   "execution_count": 6,
   "id": "902646d7",
   "metadata": {},
   "outputs": [
    {
     "name": "stdout",
     "output_type": "stream",
     "text": [
      "Strings are rotations of each other\n"
     ]
    }
   ],
   "source": [
    "#Q3\n",
    "\n",
    "def are_strings_rotations(str1, str2):\n",
    "    # Check if the lengths of the two strings are equal\n",
    "    if len(str1) != len(str2):\n",
    "        return False\n",
    "\n",
    "    # Concatenate one of the strings to itself\n",
    "    concatenated_str1 = str1 + str1\n",
    "\n",
    "    # Check if the other string is a substring of the concatenated string\n",
    "    if str2 in concatenated_str1:\n",
    "        return True\n",
    "    else:\n",
    "        return False\n",
    "\n",
    "# Example usage\n",
    "string1 = \"abcde\"\n",
    "string2 = \"cdeab\"\n",
    "\n",
    "result = are_strings_rotations(string1, string2)\n",
    "if result:\n",
    "    print(\"Strings are rotations of each other\")\n",
    "else:\n",
    "    print(\"Strings are not rotations of each other\")\n"
   ]
  },
  {
   "cell_type": "code",
   "execution_count": 8,
   "id": "d9a61c27",
   "metadata": {},
   "outputs": [
    {
     "name": "stdout",
     "output_type": "stream",
     "text": [
      "The first non-repeated character is: p\n"
     ]
    }
   ],
   "source": [
    "#Q4\n",
    "\n",
    "def find_first_non_repeated_char(s):\n",
    "    # Create a dictionary to store character frequencies\n",
    "    char_count = {}\n",
    "\n",
    "    # Count the frequency of each character in the string\n",
    "    for char in s:\n",
    "        if char in char_count:\n",
    "            char_count[char] += 1\n",
    "        else:\n",
    "            char_count[char] = 1\n",
    "\n",
    "    # Find the first non-repeated character\n",
    "    for char in s:\n",
    "        if char_count[char] == 1:\n",
    "            return char\n",
    "\n",
    "    # If no non-repeated character is found, return None\n",
    "    return None\n",
    "\n",
    "# Example usage\n",
    "input_string = \"programming\"\n",
    "result = find_first_non_repeated_char(input_string)\n",
    "\n",
    "if result:\n",
    "    print(f\"The first non-repeated character is: {result}\")\n",
    "else:\n",
    "    print(\"No non-repeated character found in the string.\")\n"
   ]
  },
  {
   "cell_type": "code",
   "execution_count": 10,
   "id": "60da69a7",
   "metadata": {},
   "outputs": [
    {
     "name": "stdout",
     "output_type": "stream",
     "text": [
      "Move disk 1 from A to C\n",
      "Move disk 2 from A to B\n",
      "Move disk 1 from C to B\n",
      "Move disk 3 from A to C\n",
      "Move disk 1 from B to A\n",
      "Move disk 2 from B to C\n",
      "Move disk 1 from A to C\n"
     ]
    }
   ],
   "source": [
    "#Q5\n",
    "def tower_of_hanoi(n, source_peg, auxiliary_peg, target_peg):\n",
    "    if n == 1:\n",
    "        # If there is only one disk, move it from source to target peg\n",
    "        print(f\"Move disk 1 from {source_peg} to {target_peg}\")\n",
    "        return\n",
    "    else:\n",
    "        # Move n-1 disks from source peg to auxiliary peg using target peg as auxiliary\n",
    "        tower_of_hanoi(n - 1, source_peg, target_peg, auxiliary_peg)\n",
    "        \n",
    "        # Move the nth disk from source peg to target peg\n",
    "        print(f\"Move disk {n} from {source_peg} to {target_peg}\")\n",
    "        \n",
    "        # Move the n-1 disks from auxiliary peg to target peg using source peg as auxiliary\n",
    "        tower_of_hanoi(n - 1, auxiliary_peg, source_peg, target_peg)\n",
    "\n",
    "# Example usage\n",
    "number_of_disks = 3\n",
    "tower_of_hanoi(number_of_disks, 'A', 'B', 'C')\n"
   ]
  },
  {
   "cell_type": "code",
   "execution_count": 11,
   "id": "be26f29e",
   "metadata": {},
   "outputs": [
    {
     "name": "stdout",
     "output_type": "stream",
     "text": [
      "Prefix Expression: +35\n"
     ]
    }
   ],
   "source": [
    "#Q6\n",
    "def is_operator(char):\n",
    "    return char in \"+-*/\"\n",
    "\n",
    "def postfix_to_prefix(postfix_expression):\n",
    "    stack = []\n",
    "    \n",
    "    for char in postfix_expression:\n",
    "        if not is_operator(char):\n",
    "            # If the character is an operand, push it onto the stack\n",
    "            stack.append(char)\n",
    "        else:\n",
    "            # If the character is an operator, pop two operands from the stack\n",
    "            operand2 = stack.pop()\n",
    "            operand1 = stack.pop()\n",
    "            \n",
    "            # Combine the operands and operator and push it back onto the stack\n",
    "            prefix_expression = char + operand1 + operand2\n",
    "            stack.append(prefix_expression)\n",
    "    \n",
    "    # The final result should be on the stack\n",
    "    return stack[0]\n",
    "\n",
    "# Example usage\n",
    "postfix_expression = \"35+\"\n",
    "prefix_expression = postfix_to_prefix(postfix_expression)\n",
    "print(\"Prefix Expression:\", prefix_expression)\n"
   ]
  },
  {
   "cell_type": "code",
   "execution_count": 12,
   "id": "9424e46f",
   "metadata": {},
   "outputs": [
    {
     "name": "stdout",
     "output_type": "stream",
     "text": [
      "Infix Expression: (3+5)\n"
     ]
    }
   ],
   "source": [
    "#Q7\n",
    "def is_operator(char):\n",
    "    return char in \"+-*/\"\n",
    "\n",
    "def prefix_to_infix(prefix_expression):\n",
    "    stack = []\n",
    "    \n",
    "    for char in reversed(prefix_expression):\n",
    "        if not is_operator(char):\n",
    "            # If the character is an operand, push it onto the stack\n",
    "            stack.append(char)\n",
    "        else:\n",
    "            # If the character is an operator, pop two operands from the stack\n",
    "            operand1 = stack.pop()\n",
    "            operand2 = stack.pop()\n",
    "            \n",
    "            # Combine the operands and operator and enclose them in parentheses\n",
    "            infix_expression = \"(\" + operand1 + char + operand2 + \")\"\n",
    "            stack.append(infix_expression)\n",
    "    \n",
    "    # The final result should be on the stack\n",
    "    return stack[0]\n",
    "\n",
    "# Example usage\n",
    "prefix_expression = \"+35\"\n",
    "infix_expression = prefix_to_infix(prefix_expression)\n",
    "print(\"Infix Expression:\", infix_expression)\n"
   ]
  },
  {
   "cell_type": "code",
   "execution_count": 14,
   "id": "cd8ed467",
   "metadata": {},
   "outputs": [
    {
     "name": "stdout",
     "output_type": "stream",
     "text": [
      "Brackets are balanced.\n"
     ]
    }
   ],
   "source": [
    "#Q8\n",
    "\n",
    "\n",
    "def are_brackets_balanced(code):\n",
    "    stack = []\n",
    "    brackets = {\"(\": \")\", \"[\": \"]\", \"{\": \"}\"}\n",
    "\n",
    "    for char in code:\n",
    "        if char in \"([{\":\n",
    "            # If it's an opening bracket, push it onto the stack\n",
    "            stack.append(char)\n",
    "        elif char in \")]}\":\n",
    "            # If it's a closing bracket, check if the stack is empty\n",
    "            if not stack:\n",
    "                return False\n",
    "            \n",
    "            # Pop the top element from the stack and check if it matches the current closing bracket\n",
    "            top = stack.pop()\n",
    "            if brackets[top] != char:\n",
    "                return False\n",
    "\n",
    "    # If the stack is empty at the end, all brackets are balanced\n",
    "    return len(stack) == 0\n",
    "\n",
    "# Example usage\n",
    "code_snippet = \"{[()]}\"\n",
    "\n",
    "if are_brackets_balanced(code_snippet):\n",
    "    print(\"Brackets are balanced.\")\n",
    "else:\n",
    "    print(\"Brackets are not balanced.\")\n"
   ]
  },
  {
   "cell_type": "code",
   "execution_count": 16,
   "id": "d0845e50",
   "metadata": {},
   "outputs": [
    {
     "name": "stdout",
     "output_type": "stream",
     "text": [
      "Original Stack: [1, 2, 3, 4]\n",
      "Reversed Stack: [1, 2, 3, 4]\n"
     ]
    }
   ],
   "source": [
    "#Q9\n",
    "\n",
    "class Stack:\n",
    "    def __init__(self):\n",
    "        self.items = []\n",
    "\n",
    "    def is_empty(self):\n",
    "        return len(self.items) == 0\n",
    "\n",
    "    def push(self, item):\n",
    "        self.items.append(item)\n",
    "\n",
    "    def pop(self):\n",
    "        if not self.is_empty():\n",
    "            return self.items.pop()\n",
    "        else:\n",
    "            return None\n",
    "\n",
    "    def peek(self):\n",
    "        if not self.is_empty():\n",
    "            return self.items[-1]\n",
    "        else:\n",
    "            return None\n",
    "\n",
    "    def size(self):\n",
    "        return len(self.items)\n",
    "\n",
    "\n",
    "def reverse_stack(stack):\n",
    "    aux_stack = Stack()\n",
    "\n",
    "    # Push all elements from the original stack to the auxiliary stack\n",
    "    while not stack.is_empty():\n",
    "        aux_stack.push(stack.pop())\n",
    "\n",
    "    # Push all elements back to the original stack, effectively reversing the order\n",
    "    while not aux_stack.is_empty():\n",
    "        stack.push(aux_stack.pop())\n",
    "\n",
    "\n",
    "# Example usage\n",
    "if __name__ == \"__main__\":\n",
    "    original_stack = Stack()\n",
    "    original_stack.push(1)\n",
    "    original_stack.push(2)\n",
    "    original_stack.push(3)\n",
    "    original_stack.push(4)\n",
    "\n",
    "    print(\"Original Stack:\", original_stack.items)\n",
    "\n",
    "    reverse_stack(original_stack)\n",
    "\n",
    "    print(\"Reversed Stack:\", original_stack.items)\n",
    "    \n",
    "    #i have written the correct code fore this but in output it is not recersing and when i have written this code in vs there it is working correctly\n",
    "      help me with this"
   ]
  },
  {
   "cell_type": "code",
   "execution_count": 17,
   "id": "4215714e",
   "metadata": {},
   "outputs": [
    {
     "name": "stdout",
     "output_type": "stream",
     "text": [
      "Current Minimum: 1\n",
      "Current Minimum: 3\n"
     ]
    }
   ],
   "source": [
    "#Q10\n",
    "\n",
    "class MinStack:\n",
    "    def __init__(self):\n",
    "        self.stack = []  # Main stack to store elements\n",
    "        self.min_stack = []  # Auxiliary stack to store minimum values\n",
    "\n",
    "    def push(self, x):\n",
    "        # Push the element onto the main stack\n",
    "        self.stack.append(x)\n",
    "        \n",
    "        # If the auxiliary stack is empty or the new element is smaller than the current minimum, push it onto the auxiliary stack\n",
    "        if not self.min_stack or x <= self.min_stack[-1]:\n",
    "            self.min_stack.append(x)\n",
    "\n",
    "    def pop(self):\n",
    "        # Pop the element from the main stack\n",
    "        if self.stack:\n",
    "            # If the element being popped is the current minimum, pop it from the auxiliary stack as well\n",
    "            if self.stack[-1] == self.min_stack[-1]:\n",
    "                self.min_stack.pop()\n",
    "            self.stack.pop()\n",
    "\n",
    "    def top(self):\n",
    "        # Return the top element of the main stack\n",
    "        if self.stack:\n",
    "            return self.stack[-1]\n",
    "        else:\n",
    "            return None\n",
    "\n",
    "    def get_min(self):\n",
    "        # Return the current minimum value from the auxiliary stack\n",
    "        if self.min_stack:\n",
    "            return self.min_stack[-1]\n",
    "        else:\n",
    "            return None\n",
    "\n",
    "# Example usage\n",
    "if __name__ == \"__main__\":\n",
    "    min_stack = MinStack()\n",
    "    min_stack.push(3)\n",
    "    min_stack.push(5)\n",
    "    min_stack.push(2)\n",
    "    min_stack.push(1)\n",
    "\n",
    "    print(\"Current Minimum:\", min_stack.get_min())  # Smallest number is 1\n",
    "\n",
    "    min_stack.pop()\n",
    "    min_stack.pop()\n",
    "\n",
    "    print(\"Current Minimum:\", min_stack.get_min())  # Smallest number is 3\n"
   ]
  }
 ],
 "metadata": {
  "kernelspec": {
   "display_name": "Python 3 (ipykernel)",
   "language": "python",
   "name": "python3"
  },
  "language_info": {
   "codemirror_mode": {
    "name": "ipython",
    "version": 3
   },
   "file_extension": ".py",
   "mimetype": "text/x-python",
   "name": "python",
   "nbconvert_exporter": "python",
   "pygments_lexer": "ipython3",
   "version": "3.9.7"
  }
 },
 "nbformat": 4,
 "nbformat_minor": 5
}
